{
  "nbformat": 4,
  "nbformat_minor": 0,
  "metadata": {
    "colab": {
      "provenance": []
    },
    "kernelspec": {
      "name": "python3",
      "display_name": "Python 3"
    },
    "language_info": {
      "name": "python"
    }
  },
  "cells": [
    {
      "cell_type": "code",
      "execution_count": 1,
      "metadata": {
        "id": "koTJwYL2kCRp"
      },
      "outputs": [],
      "source": [
        "from transformers import AutoModelForSequenceClassification, AutoTokenizer\n",
        "import torch"
      ]
    },
    {
      "cell_type": "code",
      "source": [
        "model_directory = \"/content/sample_data/quora_question_pair\"\n"
      ],
      "metadata": {
        "id": "Ig7UpGALuTC8"
      },
      "execution_count": 2,
      "outputs": []
    },
    {
      "cell_type": "code",
      "source": [
        "model = AutoModelForSequenceClassification.from_pretrained(model_directory)\n",
        "\n",
        "# Load the tokenizer\n",
        "tokenizer = AutoTokenizer.from_pretrained(model_directory)\n",
        "\n",
        "# Set the device (GPU or CPU)\n",
        "device = torch.device(\"cuda\") if torch.cuda.is_available() else torch.device(\"cpu\")\n",
        "model.to(device)"
      ],
      "metadata": {
        "colab": {
          "base_uri": "https://localhost:8080/"
        },
        "id": "6-oxlXKdv4xg",
        "outputId": "c7d820b2-283f-4675-ab84-d213192c46b4"
      },
      "execution_count": 3,
      "outputs": [
        {
          "output_type": "execute_result",
          "data": {
            "text/plain": [
              "BertForSequenceClassification(\n",
              "  (bert): BertModel(\n",
              "    (embeddings): BertEmbeddings(\n",
              "      (word_embeddings): Embedding(30522, 768, padding_idx=0)\n",
              "      (position_embeddings): Embedding(512, 768)\n",
              "      (token_type_embeddings): Embedding(2, 768)\n",
              "      (LayerNorm): LayerNorm((768,), eps=1e-12, elementwise_affine=True)\n",
              "      (dropout): Dropout(p=0.1, inplace=False)\n",
              "    )\n",
              "    (encoder): BertEncoder(\n",
              "      (layer): ModuleList(\n",
              "        (0-11): 12 x BertLayer(\n",
              "          (attention): BertAttention(\n",
              "            (self): BertSdpaSelfAttention(\n",
              "              (query): Linear(in_features=768, out_features=768, bias=True)\n",
              "              (key): Linear(in_features=768, out_features=768, bias=True)\n",
              "              (value): Linear(in_features=768, out_features=768, bias=True)\n",
              "              (dropout): Dropout(p=0.1, inplace=False)\n",
              "            )\n",
              "            (output): BertSelfOutput(\n",
              "              (dense): Linear(in_features=768, out_features=768, bias=True)\n",
              "              (LayerNorm): LayerNorm((768,), eps=1e-12, elementwise_affine=True)\n",
              "              (dropout): Dropout(p=0.1, inplace=False)\n",
              "            )\n",
              "          )\n",
              "          (intermediate): BertIntermediate(\n",
              "            (dense): Linear(in_features=768, out_features=3072, bias=True)\n",
              "            (intermediate_act_fn): GELUActivation()\n",
              "          )\n",
              "          (output): BertOutput(\n",
              "            (dense): Linear(in_features=3072, out_features=768, bias=True)\n",
              "            (LayerNorm): LayerNorm((768,), eps=1e-12, elementwise_affine=True)\n",
              "            (dropout): Dropout(p=0.1, inplace=False)\n",
              "          )\n",
              "        )\n",
              "      )\n",
              "    )\n",
              "    (pooler): BertPooler(\n",
              "      (dense): Linear(in_features=768, out_features=768, bias=True)\n",
              "      (activation): Tanh()\n",
              "    )\n",
              "  )\n",
              "  (dropout): Dropout(p=0.1, inplace=False)\n",
              "  (classifier): Linear(in_features=768, out_features=2, bias=True)\n",
              ")"
            ]
          },
          "metadata": {},
          "execution_count": 3
        }
      ]
    },
    {
      "cell_type": "code",
      "source": [
        "# Example question pairs\n",
        "question_pairs = [\n",
        "    ['Who wrote \"To Kill a Mockingbird\"?', 'Who is the author of \"To Kill a Mockingbird\"?'],\n",
        "    ['What is the capital of Pakistan?', 'What is the name of capital city of Pakistan?'],\n",
        "    ['Where is the nearest gas station?', 'What is the location of gas station near to me?']\n",
        "]\n",
        "\n",
        "# Tokenize the question pairs\n",
        "tokens = tokenizer(question_pairs, truncation=True, padding=True, return_tensors='pt')\n",
        "\n",
        "# Move tokens to the device\n",
        "tokens = tokens.to(device)\n"
      ],
      "metadata": {
        "id": "ayIDhuEGwZQs"
      },
      "execution_count": 11,
      "outputs": []
    },
    {
      "cell_type": "code",
      "source": [
        "import numpy as np\n",
        "# Get model predictions\n",
        "with torch.no_grad():\n",
        "    logits = model(**tokens).logits\n",
        "\n",
        "# Convert logits to probabilities and predictions\n",
        "logits = logits.cpu().numpy()\n",
        "predictions = np.argmax(logits, axis=-1)\n",
        "\n",
        "# Print the predicted classes (0 for 'not_duplicate', 1 for 'duplicate')\n",
        "for i, pair in enumerate(question_pairs):\n",
        "    print(f\"Question Pair: {pair}\")\n",
        "    print(f\"Prediction: {'Duplicate' if predictions[i] == 1 else 'Not Duplicate'}\\n\")\n"
      ],
      "metadata": {
        "colab": {
          "base_uri": "https://localhost:8080/"
        },
        "id": "S3mc9UIAweP6",
        "outputId": "385ecdd3-7fed-48f5-f5a2-4b9bb22099a0"
      },
      "execution_count": 12,
      "outputs": [
        {
          "output_type": "stream",
          "name": "stdout",
          "text": [
            "Question Pair: ['Who wrote \"To Kill a Mockingbird\"?', 'Who is the author of \"To Kill a Mockingbird\"?']\n",
            "Prediction: Duplicate\n",
            "\n",
            "Question Pair: ['What is the capital of Pakistan?', 'What is the name of capital city of Pakistan?']\n",
            "Prediction: Duplicate\n",
            "\n",
            "Question Pair: ['Where is the nearest gas station?', 'What is the location of gas station near to me?']\n",
            "Prediction: Not Duplicate\n",
            "\n"
          ]
        }
      ]
    },
    {
      "cell_type": "code",
      "source": [],
      "metadata": {
        "id": "359aiICvwhwg"
      },
      "execution_count": null,
      "outputs": []
    }
  ]
}